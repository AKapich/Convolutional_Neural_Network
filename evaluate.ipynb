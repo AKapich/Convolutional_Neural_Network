{
 "cells": [
  {
   "cell_type": "code",
   "execution_count": 2,
   "metadata": {},
   "outputs": [
    {
     "name": "stdout",
     "output_type": "stream",
     "text": [
      "cpu\n"
     ]
    }
   ],
   "source": [
    "from src.models.our_model import OurModel\n",
    "from src.models.pretrained_models import VGG16Pretrained, ResNetPretrained\n",
    "import torch\n",
    "from src.models.ensemble import HardVotingEnsemble, SoftVotingEnsemble\n",
    "from src.utils import load_data, evaluate_model\n",
    "from src.model_trainer import ModelTrainer\n",
    "from src.transformations import normalized_simple_transform, pretrained_transform\n",
    "device_str = \"cuda\" if torch.cuda.is_available() else \"cpu\"\n",
    "device = torch.device(device_str)\n",
    "torch.manual_seed(123)\n",
    "print(device)\n",
    "torch.set_num_threads(14)"
   ]
  },
  {
   "cell_type": "code",
   "execution_count": null,
   "metadata": {},
   "outputs": [
    {
     "name": "stdout",
     "output_type": "stream",
     "text": [
      "0 10 20 30 40 50 60 70 80 90 100 110 120 130 140 150 160 170 180 190 200 210 220 230 240 250 260 270 280 290 300 310 320 330 340 350 360 370 380 390 400 410 420 430 440 450 460 470 480 490 500 510 520 530 "
     ]
    }
   ],
   "source": [
    "test_loader = load_data('./data/test', batch_size=128, shuffle=True, transform=normalized_simple_transform(), num_workers=1)\n",
    "ourmodel = OurModel(aux_enabled=False, se_squeeze=8)  \n",
    "ourmodel.load_state_dict(torch.load(\"./saved_models/ourmodel/combined_20/OurModel_16.pth\", map_location=device))\n",
    "ourmodel.to(device)\n",
    "results = evaluate_model(model=ourmodel, dataloader=test_loader, device=device)\n",
    "print(\"\\n results\")"
   ]
  },
  {
   "cell_type": "code",
   "execution_count": null,
   "metadata": {},
   "outputs": [
    {
     "name": "stderr",
     "output_type": "stream",
     "text": [
      "c:\\Users\\karim\\AppData\\Local\\Programs\\Python\\Python312\\Lib\\site-packages\\torchvision\\models\\_utils.py:208: UserWarning: The parameter 'pretrained' is deprecated since 0.13 and may be removed in the future, please use 'weights' instead.\n",
      "  warnings.warn(\n",
      "c:\\Users\\karim\\AppData\\Local\\Programs\\Python\\Python312\\Lib\\site-packages\\torchvision\\models\\_utils.py:223: UserWarning: Arguments other than a weight enum or `None` for 'weights' are deprecated since 0.13 and may be removed in the future. The current behavior is equivalent to passing `weights=VGG16_Weights.IMAGENET1K_V1`. You can also use `weights=VGG16_Weights.DEFAULT` to get the most up-to-date weights.\n",
      "  warnings.warn(msg)\n"
     ]
    },
    {
     "name": "stdout",
     "output_type": "stream",
     "text": [
      "0 10 20 30 40 50 60 70 80 90 100 110 120 130 140 150 160 170 180 190 200 210 220 230 240 250 260 270 280 290 300 310 320 330 340 350 360 370 380 390 400 410 420 430 440 450 460 470 480 490 500 510 520 530 540 550 560 570 580 590 600 610 620 630 640 650 660 670 680 690 700 "
     ]
    },
    {
     "data": {
      "text/plain": [
       "{'accuracy': 0.7620444444444444,\n",
       " 'f1_score': 0.7635738067102986,\n",
       " 'roc_auc': np.float64(0.9706626310699589)}"
      ]
     },
     "execution_count": 13,
     "metadata": {},
     "output_type": "execute_result"
    }
   ],
   "source": [
    "test_loader_pretrained = load_data('./data/test', batch_size=128, shuffle=True, transform=pretrained_transform(), num_workers=1)\n",
    "vgg16 = VGG16Pretrained(device=\"cpu\")  \n",
    "vgg16.load_state_dict(torch.load(\"./saved_models/vgg_pretrained/regularization_params_001_2/VGG16Pretrained_10.pth\", map_location=device))\n",
    "vgg16.to(device)\n",
    "results_pretrained = evaluate_model(model=vgg16, dataloader=test_loader_pretrained, device=device)\n",
    "print(results_pretrained)"
   ]
  }
 ],
 "metadata": {
  "kernelspec": {
   "display_name": "Python 3",
   "language": "python",
   "name": "python3"
  },
  "language_info": {
   "codemirror_mode": {
    "name": "ipython",
    "version": 3
   },
   "file_extension": ".py",
   "mimetype": "text/x-python",
   "name": "python",
   "nbconvert_exporter": "python",
   "pygments_lexer": "ipython3",
   "version": "3.12.0"
  }
 },
 "nbformat": 4,
 "nbformat_minor": 2
}
