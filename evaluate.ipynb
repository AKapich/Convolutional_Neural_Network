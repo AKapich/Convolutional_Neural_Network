{
  "cells": [
    {
      "cell_type": "code",
      "execution_count": 1,
      "metadata": {
        "colab": {
          "base_uri": "https://localhost:8080/"
        },
        "id": "H1Fk6VZU91Xz",
        "outputId": "59e237cf-11c7-41a8-db4e-c781415e62a8"
      },
      "outputs": [
        {
          "name": "stdout",
          "output_type": "stream",
          "text": [
            "Mounted at /content/drive\n"
          ]
        },
        {
          "data": {
            "text/plain": [
              "['models', '__pycache__', 'model_trainer.py', 'transformations.py', 'utils.py']"
            ]
          },
          "execution_count": 1,
          "metadata": {},
          "output_type": "execute_result"
        }
      ],
      "source": [
        "from google.colab import drive\n",
        "drive.mount('/content/drive')\n",
        "import os\n",
        "os.chdir('drive/MyDrive')\n",
        "os.listdir('src')"
      ]
    },
    {
      "cell_type": "code",
      "execution_count": null,
      "metadata": {
        "colab": {
          "base_uri": "https://localhost:8080/"
        },
        "id": "FbrYlfK89zbY",
        "outputId": "8eca8c96-2d29-4ca6-c9bb-3b005d7a5719"
      },
      "outputs": [
        {
          "name": "stdout",
          "output_type": "stream",
          "text": [
            "cuda\n"
          ]
        }
      ],
      "source": [
        "from src.models.our_model import OurModel\n",
        "from src.models.pretrained_models import VGG16Pretrained, ResNetPretrained\n",
        "import torch\n",
        "from src.models.ensemble import HardVotingEnsemble, SoftVotingEnsemble\n",
        "from src.utils import load_data, evaluate_model\n",
        "from src.model_trainer import ModelTrainer\n",
        "from src.transformations import normalized_simple_transform, pretrained_transform\n",
        "device_str = \"cuda\" if torch.cuda.is_available() else \"cpu\"\n",
        "device = torch.device(device_str)\n",
        "torch.manual_seed(123)\n",
        "print(device)\n",
        "torch.set_num_threads(14)"
      ]
    },
    {
      "cell_type": "code",
      "execution_count": 3,
      "metadata": {
        "colab": {
          "base_uri": "https://localhost:8080/"
        },
        "id": "j803aw7U90N-",
        "outputId": "ff45089e-1d74-468f-c044-6adbc7bd9cbe"
      },
      "outputs": [
        {
          "name": "stdout",
          "output_type": "stream",
          "text": [
            "Finished downloading\n",
            "/data\n"
          ]
        }
      ],
      "source": [
        "# cell for donwloading data\n",
        "\n",
        "import os\n",
        "import tarfile\n",
        "import urllib.request\n",
        "import shutil\n",
        "\n",
        "download_dir = \"/data\"\n",
        "\n",
        "if not os.path.exists(download_dir):\n",
        "    os.makedirs(download_dir)\n",
        "\n",
        "tar_path = os.path.join(download_dir, \"CINIC-10.tar.gz\")\n",
        "cinic10_url = \"https://datashare.is.ed.ac.uk/bitstream/handle/10283/3192/CINIC-10.tar.gz\"\n",
        "urllib.request.urlretrieve(cinic10_url, tar_path)\n",
        "print(\"Finished downloading\")\n",
        "\n",
        "with tarfile.open(tar_path, \"r:gz\") as tar:\n",
        "    tar.extractall(path=download_dir)\n",
        "\n",
        "extracted_dir = os.path.join(download_dir, \"CINIC-10\")\n",
        "\n",
        "if os.path.exists(extracted_dir) and os.path.isdir(extracted_dir):\n",
        "    for item in os.listdir(extracted_dir):\n",
        "        src_path = os.path.join(extracted_dir, item)\n",
        "        dst_path = os.path.join(download_dir, item)\n",
        "        shutil.move(src_path, dst_path)\n",
        "\n",
        "print(download_dir)"
      ]
    },
    {
      "cell_type": "code",
      "execution_count": 7,
      "metadata": {
        "colab": {
          "base_uri": "https://localhost:8080/"
        },
        "id": "h4_YLKvS9zbb",
        "outputId": "fc056714-82b4-4889-b28c-d7fa600d671d"
      },
      "outputs": [
        {
          "name": "stdout",
          "output_type": "stream",
          "text": [
            "0 10 20 30 40 50 60 70 80 90 100 110 120 130 140 150 160 170 180 190 200 210 220 230 240 250 260 270 280 290 300 310 320 330 340 350 360 370 380 390 400 410 420 430 440 450 460 470 480 490 500 510 520 530 540 550 560 570 580 590 600 610 620 630 640 650 660 670 680 690 700 \n",
            " {'accuracy': 0.7467555555555555, 'f1_score': 0.7449930276087703, 'roc_auc': np.float64(0.9699651569958847)}\n"
          ]
        }
      ],
      "source": [
        "test_loader = load_data('/data/test', batch_size=128, shuffle=True, transform=normalized_simple_transform(), num_workers=1)\n",
        "ourmodel = OurModel(aux_enabled=False, se_squeeze=8)\n",
        "ourmodel.load_state_dict(torch.load(\"./saved_models/ourmodel/combined_20/OurModel_16.pth\", map_location=device))\n",
        "ourmodel.to(device)\n",
        "results = evaluate_model(model=ourmodel, dataloader=test_loader, device=device, max_batches=None)\n",
        "print(f\"\\n {results}\")"
      ]
    },
    {
      "cell_type": "code",
      "execution_count": 5,
      "metadata": {
        "colab": {
          "base_uri": "https://localhost:8080/"
        },
        "id": "hA3WnPzK9zbc",
        "outputId": "4a8732b2-be86-426b-94f4-1ac53bfd57a6"
      },
      "outputs": [
        {
          "name": "stderr",
          "output_type": "stream",
          "text": [
            "/usr/local/lib/python3.11/dist-packages/torchvision/models/_utils.py:208: UserWarning: The parameter 'pretrained' is deprecated since 0.13 and may be removed in the future, please use 'weights' instead.\n",
            "  warnings.warn(\n",
            "/usr/local/lib/python3.11/dist-packages/torchvision/models/_utils.py:223: UserWarning: Arguments other than a weight enum or `None` for 'weights' are deprecated since 0.13 and may be removed in the future. The current behavior is equivalent to passing `weights=VGG16_Weights.IMAGENET1K_V1`. You can also use `weights=VGG16_Weights.DEFAULT` to get the most up-to-date weights.\n",
            "  warnings.warn(msg)\n",
            "Downloading: \"https://download.pytorch.org/models/vgg16-397923af.pth\" to /root/.cache/torch/hub/checkpoints/vgg16-397923af.pth\n",
            "100%|██████████| 528M/528M [00:04<00:00, 111MB/s]\n"
          ]
        },
        {
          "name": "stdout",
          "output_type": "stream",
          "text": [
            "0 10 20 30 40 50 60 70 80 90 100 110 120 130 140 150 160 170 180 190 200 210 220 230 240 250 260 270 280 290 300 310 320 330 340 350 360 370 380 390 400 410 420 430 440 450 460 470 480 490 500 510 520 530 540 550 560 570 580 590 600 610 620 630 640 650 660 670 680 690 700 {'accuracy': 0.7581333333333333, 'f1_score': 0.7569758427001803, 'roc_auc': np.float64(0.9724191121399176)}\n"
          ]
        }
      ],
      "source": [
        "test_loader_pretrained = load_data('/data/test', batch_size=128, shuffle=True, transform=pretrained_transform(), num_workers=1)\n",
        "vgg16 = VGG16Pretrained()\n",
        "vgg16.load_state_dict(torch.load(\"./saved_models/vgg_pretrained/horizontal_flip_20/VGG16Pretrained_20.pth\", map_location=device))\n",
        "vgg16.to(device)\n",
        "results_pretrained = evaluate_model(model=vgg16, dataloader=test_loader_pretrained, device=device)\n",
        "print(f\"\\n {results_pretrained}\")"
      ]
    },
    {
      "cell_type": "code",
      "execution_count": 4,
      "metadata": {
        "colab": {
          "base_uri": "https://localhost:8080/"
        },
        "id": "Gj_9y9rA9zbd",
        "outputId": "a96d6009-07b9-402a-bce3-60fd39a374bb"
      },
      "outputs": [
        {
          "name": "stderr",
          "output_type": "stream",
          "text": [
            "Downloading: \"https://download.pytorch.org/models/resnet18-f37072fd.pth\" to /root/.cache/torch/hub/checkpoints/resnet18-f37072fd.pth\n",
            "100%|██████████| 44.7M/44.7M [00:00<00:00, 133MB/s]\n"
          ]
        },
        {
          "name": "stdout",
          "output_type": "stream",
          "text": [
            "0 10 20 30 40 50 60 70 80 90 100 110 120 130 140 150 160 170 180 190 200 210 220 230 240 250 260 270 280 290 300 310 320 330 340 350 360 370 380 390 400 410 420 430 440 450 460 470 480 490 500 510 520 530 540 550 560 570 580 590 600 610 620 630 640 650 660 670 680 690 700 \n",
            " {'accuracy': 0.7855888888888889, 'f1_score': 0.7844789385324462, 'roc_auc': np.float64(0.9786484316186558)}\n"
          ]
        }
      ],
      "source": [
        "test_loader_pretrained = load_data('/data/test', batch_size=128, shuffle=True, transform=pretrained_transform(), num_workers=1)\n",
        "resnet = ResNetPretrained()\n",
        "resnet.load_state_dict(torch.load(\"./saved_models/resnet/final/ResNetPretrained_20.pth\", map_location=device))\n",
        "resnet.to(device)\n",
        "results_pretrained = evaluate_model(model=resnet, dataloader=test_loader_pretrained, device=device)\n",
        "print(f\"\\n {results_pretrained}\")"
      ]
    }
  ],
  "metadata": {
    "accelerator": "GPU",
    "colab": {
      "gpuType": "T4",
      "provenance": []
    },
    "kernelspec": {
      "display_name": "Python 3",
      "name": "python3"
    },
    "language_info": {
      "codemirror_mode": {
        "name": "ipython",
        "version": 3
      },
      "file_extension": ".py",
      "mimetype": "text/x-python",
      "name": "python",
      "nbconvert_exporter": "python",
      "pygments_lexer": "ipython3",
      "version": "3.12.0"
    }
  },
  "nbformat": 4,
  "nbformat_minor": 0
}
