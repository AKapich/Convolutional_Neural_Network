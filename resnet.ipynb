{
 "cells": [
  {
   "cell_type": "code",
   "execution_count": 1,
   "metadata": {},
   "outputs": [],
   "source": [
    "import torch\n",
    "from torchsummary import summary\n",
    "from src.utils import load_data\n",
    "from src.transformations import *\n",
    "from src.models.pretrained_models import ResNetPretrained\n",
    "from src.model_trainer import ModelTrainer\n",
    "import itertools"
   ]
  },
  {
   "cell_type": "code",
   "execution_count": 2,
   "metadata": {},
   "outputs": [
    {
     "data": {
      "text/plain": [
       "device(type='cpu')"
      ]
     },
     "execution_count": 2,
     "metadata": {},
     "output_type": "execute_result"
    }
   ],
   "source": [
    "device_str = \"cuda\" if torch.cuda.is_available() else \"cpu\"\n",
    "device = torch.device(device_str)\n",
    "device"
   ]
  },
  {
   "cell_type": "code",
   "execution_count": 3,
   "metadata": {},
   "outputs": [],
   "source": [
    "train_loader = load_data(\n",
    "    \"./data/train\",\n",
    "    batch_size=256,\n",
    "    shuffle=True,\n",
    "    transform=resize_transform(),\n",
    "    num_workers=2,\n",
    ")"
   ]
  },
  {
   "cell_type": "code",
   "execution_count": 4,
   "metadata": {},
   "outputs": [],
   "source": [
    "resnet = ResNetPretrained()"
   ]
  },
  {
   "cell_type": "code",
   "execution_count": null,
   "metadata": {},
   "outputs": [],
   "source": [
    "n_epochs = 1  # set to 10 ?\n",
    "max_batches = 1  # set to None"
   ]
  },
  {
   "cell_type": "code",
   "execution_count": 8,
   "metadata": {},
   "outputs": [],
   "source": [
    "training_process_grid = {\n",
    "    \"optimizer_type\": [\"adam\", \"sgd\"],\n",
    "    \"learning_rate\": [0.01, 0.001, 0.0001],\n",
    "}\n",
    "\n",
    "regularization_grid = {\n",
    "    \"weight_decay\": [0.01, 0.001, 0.0001],\n",
    "    \"dropout\": [0.2, 0.5, 0.7],\n",
    "}\n",
    "\n",
    "# grid search for training parameters with set L1 regularizer = 0 & dropout = 0\n",
    "# grid search for regularization parameters with set optimizer = adam & learning_rate = 0.001\n",
    "\n",
    "training_param_combinations = list(itertools.product(*training_process_grid.values()))\n",
    "regularization_param_combinations = list(\n",
    "    itertools.product(*regularization_grid.values())\n",
    ")"
   ]
  },
  {
   "cell_type": "code",
   "execution_count": 13,
   "metadata": {},
   "outputs": [
    {
     "name": "stdout",
     "output_type": "stream",
     "text": [
      "is cuda False\n",
      "Batch count 0\n",
      "Epoch 1/1, Loss: 1.2602, Accuracy: 0.5352, F1-score: 0.5383\n",
      "Model saved to ./saved_models/resnet/training_params\\ResNetPretrained_1.pth\n",
      "Training log saved to ./saved_models/resnet/training_params\\resnet_adam_0.01.json\n",
      "is cuda False\n",
      "Batch count 0\n",
      "Epoch 1/1, Loss: 7.5715, Accuracy: 0.2383, F1-score: 0.1562\n",
      "Model saved to ./saved_models/resnet/training_params\\ResNetPretrained_1.pth\n",
      "Training log saved to ./saved_models/resnet/training_params\\resnet_adam_0.001.json\n",
      "is cuda False\n",
      "Batch count 0\n",
      "Epoch 1/1, Loss: 5.5652, Accuracy: 0.3047, F1-score: 0.2116\n",
      "Model saved to ./saved_models/resnet/training_params\\ResNetPretrained_1.pth\n",
      "Training log saved to ./saved_models/resnet/training_params\\resnet_adam_0.0001.json\n",
      "is cuda False\n",
      "Batch count 0\n",
      "Epoch 1/1, Loss: 5.4493, Accuracy: 0.3008, F1-score: 0.2138\n",
      "Model saved to ./saved_models/resnet/training_params\\ResNetPretrained_1.pth\n",
      "Training log saved to ./saved_models/resnet/training_params\\resnet_sgd_0.01.json\n",
      "is cuda False\n",
      "Batch count 0\n",
      "Epoch 1/1, Loss: 4.7774, Accuracy: 0.3516, F1-score: 0.2314\n",
      "Model saved to ./saved_models/resnet/training_params\\ResNetPretrained_1.pth\n",
      "Training log saved to ./saved_models/resnet/training_params\\resnet_sgd_0.001.json\n",
      "is cuda False\n",
      "Batch count 0\n",
      "Epoch 1/1, Loss: 4.8486, Accuracy: 0.3281, F1-score: 0.2189\n",
      "Model saved to ./saved_models/resnet/training_params\\ResNetPretrained_1.pth\n",
      "Training log saved to ./saved_models/resnet/training_params\\resnet_sgd_0.0001.json\n"
     ]
    }
   ],
   "source": [
    "for optimizer_type, learning_rate in training_param_combinations:\n",
    "    trainer = ModelTrainer(\n",
    "        model=resnet,\n",
    "        train_loader=train_loader,\n",
    "        device=device,\n",
    "        weight_decay=0,\n",
    "        optimizer_type=optimizer_type,\n",
    "        dropout=0,\n",
    "        learning_rate=learning_rate,\n",
    "        log_file=f\"resnet_{optimizer_type}_{learning_rate}.json\",\n",
    "        save_dir=\"./saved_models/resnet/training_params\",\n",
    "        max_batches=max_batches,\n",
    "    )\n",
    "    trainer.train(n_epochs)"
   ]
  },
  {
   "cell_type": "code",
   "execution_count": 14,
   "metadata": {},
   "outputs": [
    {
     "name": "stdout",
     "output_type": "stream",
     "text": [
      "is cuda False\n",
      "Batch count 0\n",
      "Epoch 1/1, Loss: 5.0680, Accuracy: 0.3203, F1-score: 0.2255\n",
      "Model saved to ./saved_models/resnet/regularization_params\\ResNetPretrained_1.pth\n",
      "Training log saved to ./saved_models/resnet/regularization_params\\resnet_0.01_0.2.json\n",
      "is cuda False\n",
      "Batch count 0\n",
      "Epoch 1/1, Loss: 3.8199, Accuracy: 0.3398, F1-score: 0.2342\n",
      "Model saved to ./saved_models/resnet/regularization_params\\ResNetPretrained_1.pth\n",
      "Training log saved to ./saved_models/resnet/regularization_params\\resnet_0.01_0.5.json\n",
      "is cuda False\n",
      "Batch count 0\n",
      "Epoch 1/1, Loss: 2.7944, Accuracy: 0.3984, F1-score: 0.2638\n",
      "Model saved to ./saved_models/resnet/regularization_params\\ResNetPretrained_1.pth\n",
      "Training log saved to ./saved_models/resnet/regularization_params\\resnet_0.01_0.7.json\n",
      "is cuda False\n",
      "Batch count 0\n",
      "Epoch 1/1, Loss: 2.2295, Accuracy: 0.4062, F1-score: 0.2750\n",
      "Model saved to ./saved_models/resnet/regularization_params\\ResNetPretrained_1.pth\n",
      "Training log saved to ./saved_models/resnet/regularization_params\\resnet_0.001_0.2.json\n",
      "is cuda False\n",
      "Batch count 0\n",
      "Epoch 1/1, Loss: 1.8285, Accuracy: 0.4844, F1-score: 0.3942\n",
      "Model saved to ./saved_models/resnet/regularization_params\\ResNetPretrained_1.pth\n",
      "Training log saved to ./saved_models/resnet/regularization_params\\resnet_0.001_0.5.json\n",
      "is cuda False\n",
      "Batch count 0\n",
      "Epoch 1/1, Loss: 1.6865, Accuracy: 0.4141, F1-score: 0.3614\n",
      "Model saved to ./saved_models/resnet/regularization_params\\ResNetPretrained_1.pth\n",
      "Training log saved to ./saved_models/resnet/regularization_params\\resnet_0.001_0.7.json\n",
      "is cuda False\n",
      "Batch count 0\n",
      "Epoch 1/1, Loss: 1.3900, Accuracy: 0.4766, F1-score: 0.4415\n",
      "Model saved to ./saved_models/resnet/regularization_params\\ResNetPretrained_1.pth\n",
      "Training log saved to ./saved_models/resnet/regularization_params\\resnet_0.0001_0.2.json\n",
      "is cuda False\n",
      "Batch count 0\n",
      "Epoch 1/1, Loss: 1.3300, Accuracy: 0.5156, F1-score: 0.5197\n",
      "Model saved to ./saved_models/resnet/regularization_params\\ResNetPretrained_1.pth\n",
      "Training log saved to ./saved_models/resnet/regularization_params\\resnet_0.0001_0.5.json\n",
      "is cuda False\n",
      "Batch count 0\n",
      "Epoch 1/1, Loss: 1.2966, Accuracy: 0.5859, F1-score: 0.5348\n",
      "Model saved to ./saved_models/resnet/regularization_params\\ResNetPretrained_1.pth\n",
      "Training log saved to ./saved_models/resnet/regularization_params\\resnet_0.0001_0.7.json\n"
     ]
    }
   ],
   "source": [
    "for weight_decay, dropout in regularization_param_combinations:\n",
    "    trainer = ModelTrainer(\n",
    "        model=resnet,\n",
    "        train_loader=train_loader,\n",
    "        device=device,\n",
    "        optimizer_type=\"adam\",\n",
    "        learning_rate=0.001,\n",
    "        weight_decay=weight_decay,\n",
    "        dropout=dropout,\n",
    "        log_file=f\"resnet_{weight_decay}_{dropout}.json\",\n",
    "        save_dir=\"./saved_models/resnet/regularization_params\",\n",
    "        max_batches=max_batches,\n",
    "    )\n",
    "    trainer.train(n_epochs)"
   ]
  },
  {
   "cell_type": "markdown",
   "metadata": {},
   "source": [
    "### Best model to be tested on dataset altered through data augmentation techniques"
   ]
  },
  {
   "cell_type": "code",
   "execution_count": 15,
   "metadata": {},
   "outputs": [],
   "source": [
    "train_rotated = load_data(\n",
    "    \"./data/train\",\n",
    "    batch_size=256,\n",
    "    shuffle=True,\n",
    "    transform=random_rotation_transform(),\n",
    "    num_workers=2,\n",
    ")"
   ]
  }
 ],
 "metadata": {
  "kernelspec": {
   "display_name": ".venv",
   "language": "python",
   "name": "python3"
  },
  "language_info": {
   "codemirror_mode": {
    "name": "ipython",
    "version": 3
   },
   "file_extension": ".py",
   "mimetype": "text/x-python",
   "name": "python",
   "nbconvert_exporter": "python",
   "pygments_lexer": "ipython3",
   "version": "3.11.9"
  }
 },
 "nbformat": 4,
 "nbformat_minor": 2
}
